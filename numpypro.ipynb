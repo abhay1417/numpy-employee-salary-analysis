{
 "cells": [
  {
   "cell_type": "markdown",
   "id": "e9eebe73",
   "metadata": {},
   "source": [
    "NUMPY PROJECT : EMPLOYEE SALARY ANALYSIS"
   ]
  },
  {
   "cell_type": "code",
   "execution_count": 1,
   "id": "fa23b653",
   "metadata": {},
   "outputs": [],
   "source": [
    "import numpy as np"
   ]
  },
  {
   "cell_type": "code",
   "execution_count": null,
   "id": "3b55409c",
   "metadata": {},
   "outputs": [],
   "source": [
    "salaries = np.array([10000,20000,50000,40000,30000,70000,60000,80000,90000])\n"
   ]
  },
  {
   "cell_type": "markdown",
   "id": "dc2e2a97",
   "metadata": {},
   "source": [
    "BASIC ANALYSIS"
   ]
  },
  {
   "cell_type": "code",
   "execution_count": 5,
   "id": "eec3a7a0",
   "metadata": {},
   "outputs": [
    {
     "name": "stdout",
     "output_type": "stream",
     "text": [
      "total employees: 9\n",
      "minimum salary: 10000\n",
      "maximum salary: 90000\n",
      "average salary: 50000.0\n"
     ]
    }
   ],
   "source": [
    "print(\"total employees:\", salaries.size) \n",
    "print(\"minimum salary:\",salaries.min())\n",
    "print (\"maximum salary:\",salaries.max())\n",
    "print(\"average salary:\",salaries.mean())\n",
    "\n"
   ]
  },
  {
   "cell_type": "markdown",
   "id": "025b6c0d",
   "metadata": {},
   "source": [
    "*MINIMUM SALARY IS 10000*,\n",
    "*MAXIMUM SALARY IS 90000*,\n",
    "*AVERAGE SALARY IS 50000*.\n"
   ]
  },
  {
   "cell_type": "markdown",
   "id": "84afc29a",
   "metadata": {},
   "source": [
    "SALARY DISTRIBUTION"
   ]
  },
  {
   "cell_type": "code",
   "execution_count": 11,
   "id": "5e784ebf",
   "metadata": {},
   "outputs": [
    {
     "name": "stdout",
     "output_type": "stream",
     "text": [
      "standard deviation:25819.89\n",
      "variance:666666666.67\n"
     ]
    }
   ],
   "source": [
    "# sandard deviation and variance\n",
    "std_dev = np.std(salaries)\n",
    "variance = np.var(salaries)\n",
    "\n",
    "print(f\"standard deviation:{std_dev:.2f}\")\n",
    "print(f\"variance:{variance:.2f}\")"
   ]
  },
  {
   "cell_type": "markdown",
   "id": "c0a0e8b2",
   "metadata": {},
   "source": [
    "*A HIGH SANDARD DEVIATION MEANS SALARY VARY WIDELY*,\n",
    "*VARIANCE QUANTIFIES THIS SPREAD IN NUMBERS.*"
   ]
  },
  {
   "cell_type": "markdown",
   "id": "82ed7e4e",
   "metadata": {},
   "source": [
    "FILTERING EMPLOYEES WITH HIGH SALRIES"
   ]
  },
  {
   "cell_type": "code",
   "execution_count": 12,
   "id": "fb0da688",
   "metadata": {},
   "outputs": [
    {
     "name": "stdout",
     "output_type": "stream",
     "text": [
      "employees with salary greater than 50000: [70000 60000 80000 90000]\n"
     ]
    }
   ],
   "source": [
    "high_salaries = salaries[salaries>50000]\n",
    "print(\"employees with salary greater than 50000:\",high_salaries)"
   ]
  },
  {
   "cell_type": "markdown",
   "id": "b213adbb",
   "metadata": {},
   "source": [
    "*WE FOUND EMPLOYEES EARNING ABOVE 50000*"
   ]
  },
  {
   "cell_type": "markdown",
   "id": "1b09dbd1",
   "metadata": {},
   "source": [
    "SALARY GROWTH OVER THE YEARS"
   ]
  },
  {
   "cell_type": "code",
   "execution_count": 13,
   "id": "0a1f5be6",
   "metadata": {},
   "outputs": [
    {
     "name": "stdout",
     "output_type": "stream",
     "text": [
      "projected salary after 5 years: [ 12762.82  25525.63  63814.08  51051.26  38288.45  89339.71  76576.89\n",
      " 102102.53 114865.34]\n"
     ]
    }
   ],
   "source": [
    "# stimulated salary growth over 5 years (5% per year)\n",
    "years = 5\n",
    "future_salaries = salaries *(1.05**years)\n",
    "print(\"projected salary after 5 years:\",np.round(future_salaries,2))"
   ]
  },
  {
   "cell_type": "markdown",
   "id": "efdef41e",
   "metadata": {},
   "source": [
    "*EMPLOYEES SALARY GROW BY 5% PER YEAR*, *HELPS IN FINANCIAL PLANNING*"
   ]
  },
  {
   "cell_type": "markdown",
   "id": "00ba9f15",
   "metadata": {},
   "source": [
    "FINAL PROJECT SUMMARY"
   ]
  },
  {
   "cell_type": "markdown",
   "id": "64a63b51",
   "metadata": {},
   "source": [
    "🧮 Project Title:\n",
    "\n",
    "NumPy Project – Employee Salary Analysis\n",
    "\n",
    "📘 Project Overview:\n",
    "\n",
    "This project analyzes employee salary data using NumPy, focusing on understanding salary distribution, identifying trends, and simulating future salary growth. It demonstrates the use of NumPy for data manipulation and statistical analysis in Python.\n",
    "\n",
    "🔍 Key Objectives:\n",
    "\n",
    "Perform basic statistical analysis on salary data\n",
    "\n",
    "Measure salary distribution using standard deviation and variance\n",
    "\n",
    "Filter employees with higher salaries\n",
    "\n",
    "Simulate future salary growth using percentage increments\n",
    "\n",
    "⚙️ Tools & Libraries Used:\n",
    "\n",
    "Python\n",
    "\n",
    "NumPy\n",
    "\n",
    "📊 Analysis Performed:\n",
    "\n",
    "Basic Analysis:\n",
    "\n",
    "Total employees\n",
    "\n",
    "Minimum, maximum, and average salary\n",
    "\n",
    "Example results:\n",
    "\n",
    "Minimum Salary = 10,000\n",
    "\n",
    "Maximum Salary = 90,000\n",
    "\n",
    "Average Salary = 50,000\n",
    "\n",
    "Salary Distribution:\n",
    "\n",
    "Calculated Standard Deviation and Variance to measure salary spread.\n",
    "\n",
    "Interpretation:\n",
    "\n",
    "A high standard deviation indicates wide variation in salaries.\n",
    "\n",
    "Filtering High Salaries:\n",
    "\n",
    "Identified employees earning above ₹50,000.\n",
    "\n",
    "Future Salary Growth Simulation:\n",
    "\n",
    "Projected salaries over 5 years assuming 5% annual growth.\n",
    "\n",
    "Used NumPy vectorized operations for efficient calculations.\n",
    "\n",
    "💡 Insights:\n",
    "\n",
    "Salaries are spread across a wide range (10K–90K).\n",
    "\n",
    "Employees earning above 50K form the higher-income segment.\n",
    "\n",
    "Over five years, salaries increase notably with consistent growth.\n",
    "\n",
    "🧠 Learning Outcome:\n",
    "\n",
    "This project showcases how NumPy arrays can efficiently perform mathematical and statistical operations on datasets, making it ideal for data analytics tasks."
   ]
  },
  {
   "cell_type": "code",
   "execution_count": null,
   "id": "b6d41963",
   "metadata": {},
   "outputs": [],
   "source": []
  },
  {
   "cell_type": "code",
   "execution_count": null,
   "id": "4aa04579",
   "metadata": {},
   "outputs": [],
   "source": []
  },
  {
   "cell_type": "code",
   "execution_count": null,
   "id": "fdf87c09",
   "metadata": {},
   "outputs": [],
   "source": []
  },
  {
   "cell_type": "code",
   "execution_count": null,
   "id": "b19909f6",
   "metadata": {},
   "outputs": [],
   "source": []
  },
  {
   "cell_type": "code",
   "execution_count": null,
   "id": "329636d8",
   "metadata": {},
   "outputs": [],
   "source": []
  }
 ],
 "metadata": {
  "kernelspec": {
   "display_name": "Python 3",
   "language": "python",
   "name": "python3"
  },
  "language_info": {
   "codemirror_mode": {
    "name": "ipython",
    "version": 3
   },
   "file_extension": ".py",
   "mimetype": "text/x-python",
   "name": "python",
   "nbconvert_exporter": "python",
   "pygments_lexer": "ipython3",
   "version": "3.13.5"
  }
 },
 "nbformat": 4,
 "nbformat_minor": 5
}
